{
 "cells": [
  {
   "cell_type": "code",
   "execution_count": 3,
   "metadata": {},
   "outputs": [
    {
     "data": {
      "text/plain": [
       "(317, 3)"
      ]
     },
     "execution_count": 3,
     "metadata": {},
     "output_type": "execute_result"
    }
   ],
   "source": [
    "import numpy as np\n",
    "import pandas as pd\n",
    "\n",
    "df = pd.read_csv('M317.csv')\n",
    "df.shape"
   ]
  },
  {
   "cell_type": "code",
   "execution_count": 4,
   "metadata": {},
   "outputs": [
    {
     "data": {
      "text/html": [
       "<div>\n",
       "<style scoped>\n",
       "    .dataframe tbody tr th:only-of-type {\n",
       "        vertical-align: middle;\n",
       "    }\n",
       "\n",
       "    .dataframe tbody tr th {\n",
       "        vertical-align: top;\n",
       "    }\n",
       "\n",
       "    .dataframe thead th {\n",
       "        text-align: right;\n",
       "    }\n",
       "</style>\n",
       "<table border=\"1\" class=\"dataframe\">\n",
       "  <thead>\n",
       "    <tr style=\"text-align: right;\">\n",
       "      <th></th>\n",
       "      <th>label</th>\n",
       "      <th>id</th>\n",
       "      <th>sequence</th>\n",
       "    </tr>\n",
       "  </thead>\n",
       "  <tbody>\n",
       "    <tr>\n",
       "      <td>312</td>\n",
       "      <td>Matrix</td>\n",
       "      <td>P61603</td>\n",
       "      <td>AGQAFRKFLPLFDRVLVERSAAETVTKGGIMLPEKSQGKVLQATVV...</td>\n",
       "    </tr>\n",
       "    <tr>\n",
       "      <td>313</td>\n",
       "      <td>Matrix</td>\n",
       "      <td>Q99NB1</td>\n",
       "      <td>MAARSLGSGVGRLLRGLQGRSGQSGWSLSVSRSTATRLPGCVPAAA...</td>\n",
       "    </tr>\n",
       "    <tr>\n",
       "      <td>314</td>\n",
       "      <td>Matrix</td>\n",
       "      <td>P00431</td>\n",
       "      <td>MTTAVRLLPSLGRTAHKRSLYLFSAAAAAAAAATFAYSQSQKRSSS...</td>\n",
       "    </tr>\n",
       "    <tr>\n",
       "      <td>315</td>\n",
       "      <td>Matrix</td>\n",
       "      <td>P18687</td>\n",
       "      <td>MLRLPTVLRQMRPVSRALAPHLTRAYAKDVKFGADARALMLQGVDL...</td>\n",
       "    </tr>\n",
       "    <tr>\n",
       "      <td>316</td>\n",
       "      <td>Matrix</td>\n",
       "      <td>P38910</td>\n",
       "      <td>MSTLLKSAKSIVPLMDRVLVQRIKAQAKTASGLYLPEKNVEKLNQA...</td>\n",
       "    </tr>\n",
       "  </tbody>\n",
       "</table>\n",
       "</div>"
      ],
      "text/plain": [
       "      label      id                                           sequence\n",
       "312  Matrix  P61603  AGQAFRKFLPLFDRVLVERSAAETVTKGGIMLPEKSQGKVLQATVV...\n",
       "313  Matrix  Q99NB1  MAARSLGSGVGRLLRGLQGRSGQSGWSLSVSRSTATRLPGCVPAAA...\n",
       "314  Matrix  P00431  MTTAVRLLPSLGRTAHKRSLYLFSAAAAAAAAATFAYSQSQKRSSS...\n",
       "315  Matrix  P18687  MLRLPTVLRQMRPVSRALAPHLTRAYAKDVKFGADARALMLQGVDL...\n",
       "316  Matrix  P38910  MSTLLKSAKSIVPLMDRVLVQRIKAQAKTASGLYLPEKNVEKLNQA..."
      ]
     },
     "execution_count": 4,
     "metadata": {},
     "output_type": "execute_result"
    }
   ],
   "source": [
    "df.tail()"
   ]
  },
  {
   "cell_type": "code",
   "execution_count": 6,
   "metadata": {},
   "outputs": [
    {
     "name": "stdout",
     "output_type": "stream",
     "text": [
      "at least 41 instances per class\n",
      "317 instances before\n",
      "317 instances after\n"
     ]
    },
    {
     "name": "stderr",
     "output_type": "stream",
     "text": [
      "C:\\Users\\Dell\\Anaconda3\\lib\\site-packages\\ipykernel_launcher.py:29: MatplotlibDeprecationWarning: \n",
      "The 'normed' kwarg was deprecated in Matplotlib 2.1 and will be removed in 3.1. Use 'density' instead.\n"
     ]
    },
    {
     "data": {
      "image/png": "[encoded data removed]",
      "text/plain": [
       "<Figure size 1440x360 with 2 Axes>"
      ]
     },
     "metadata": {
      "needs_background": "light"
     },
     "output_type": "display_data"
    }
   ],
   "source": [
    "import matplotlib.pyplot as plt\n",
    "from collections import Counter\n",
    "\n",
    "# count numbers of instances per class\n",
    "cnt = Counter(df.label)\n",
    "# select only 10 most common classes!\n",
    "top_classes = 3\n",
    "# sort classes\n",
    "sorted_classes = cnt.most_common()[:top_classes]\n",
    "classes = [c[0] for c in sorted_classes]\n",
    "counts = [c[1] for c in sorted_classes]\n",
    "print(\"at least \" + str(counts[-1]) + \" instances per class\")\n",
    "\n",
    "# apply to dataframe\n",
    "print(str(df.shape[0]) + \" instances before\")\n",
    "df = df[[c in classes for c in df.label]]\n",
    "print(str(df.shape[0]) + \" instances after\")\n",
    "\n",
    "seqs = df.sequence.values\n",
    "lengths = [len(s) for s in seqs]\n",
    "\n",
    "# visualize\n",
    "fig, axarr = plt.subplots(1,2, figsize=(20,5))\n",
    "axarr[0].bar(range(len(classes)), counts)\n",
    "plt.sca(axarr[0])\n",
    "plt.xticks(range(len(classes)), classes, rotation='vertical')\n",
    "axarr[0].set_ylabel('frequency')\n",
    "\n",
    "axarr[1].hist(lengths, bins=100, normed=False)\n",
    "axarr[1].set_xlabel('sequence length')\n",
    "axarr[1].set_ylabel('# sequences')\n",
    "plt.show()"
   ]
  },
  {
   "cell_type": "code",
   "execution_count": 7,
   "metadata": {},
   "outputs": [],
   "source": [
    "from sklearn.preprocessing import LabelBinarizer\n",
    "\n",
    "# Transform labels to one-hot\n",
    "lb = LabelBinarizer()\n",
    "Y = lb.fit_transform(df.label)"
   ]
  },
  {
   "cell_type": "code",
   "execution_count": 8,
   "metadata": {},
   "outputs": [],
   "source": [
    "from keras.preprocessing import text, sequence\n",
    "from keras.preprocessing.text import Tokenizer\n",
    "from sklearn.model_selection import train_test_split\n",
    "\n",
    "# maximum length of sequence, everything afterwards is discarded!\n",
    "max_length = 800\n",
    "\n",
    "#create and fit tokenizer\n",
    "tokenizer = Tokenizer(char_level=True)\n",
    "tokenizer.fit_on_texts(seqs)\n",
    "#represent input data as word rank number sequences\n",
    "X = tokenizer.texts_to_sequences(seqs)\n",
    "X = sequence.pad_sequences(X, maxlen=max_length)"
   ]
  },
  {
   "cell_type": "code",
   "execution_count": 9,
   "metadata": {},
   "outputs": [
    {
     "name": "stdout",
     "output_type": "stream",
     "text": [
      "WARNING:tensorflow:From C:\\Users\\Dell\\Anaconda3\\lib\\site-packages\\tensorflow\\python\\ops\\resource_variable_ops.py:435: colocate_with (from tensorflow.python.framework.ops) is deprecated and will be removed in a future version.\n",
      "Instructions for updating:\n",
      "Colocations handled automatically by placer.\n",
      "Model: \"sequential_3\"\n",
      "_________________________________________________________________\n",
      "Layer (type)                 Output Shape              Param #   \n",
      "=================================================================\n",
      "embedding_1 (Embedding)      (None, 800, 20)           420       \n",
      "_________________________________________________________________\n",
      "conv1d_1 (Conv1D)            (None, 800, 64)           3904      \n",
      "_________________________________________________________________\n",
      "max_pooling1d_1 (MaxPooling1 (None, 400, 64)           0         \n",
      "_________________________________________________________________\n",
      "conv1d_2 (Conv1D)            (None, 400, 32)           6176      \n",
      "_________________________________________________________________\n",
      "max_pooling1d_2 (MaxPooling1 (None, 200, 32)           0         \n",
      "_________________________________________________________________\n",
      "conv1d_3 (Conv1D)            (None, 200, 16)           1552      \n",
      "_________________________________________________________________\n",
      "max_pooling1d_3 (MaxPooling1 (None, 100, 16)           0         \n",
      "_________________________________________________________________\n",
      "flatten_1 (Flatten)          (None, 1600)              0         \n",
      "_________________________________________________________________\n",
      "dense_1 (Dense)              (None, 128)               204928    \n",
      "_________________________________________________________________\n",
      "dense_2 (Dense)              (None, 3)                 387       \n",
      "=================================================================\n",
      "Total params: 217,367\n",
      "Trainable params: 217,367\n",
      "Non-trainable params: 0\n",
      "_________________________________________________________________\n",
      "None\n"
     ]
    }
   ],
   "source": [
    "from keras.models import Sequential\n",
    "from keras.layers import Dense, Conv1D, MaxPooling1D, Flatten\n",
    "from keras.layers import LSTM\n",
    "from keras.layers.embeddings import Embedding\n",
    "\n",
    "embedding_dim = 20\n",
    "\n",
    "# create the model\n",
    "model = Sequential()\n",
    "model.add(Embedding(len(tokenizer.word_index)+1, embedding_dim, input_length=max_length))\n",
    "model.add(Conv1D(filters=64, kernel_size=3, padding='same', activation='relu'))\n",
    "model.add(MaxPooling1D(pool_size=2))\n",
    "model.add(Conv1D(filters=32, kernel_size=3, padding='same', activation='relu'))\n",
    "model.add(MaxPooling1D(pool_size=2))\n",
    "model.add(Conv1D(filters=16, kernel_size=3, padding='same', activation='relu'))\n",
    "model.add(MaxPooling1D(pool_size=2))\n",
    "model.add(Flatten())\n",
    "model.add(Dense(128, activation='relu'))\n",
    "model.add(Dense(top_classes, activation='softmax'))\n",
    "model.compile(loss='categorical_crossentropy', optimizer='adam', metrics=['accuracy'])\n",
    "print(model.summary())"
   ]
  },
  {
   "cell_type": "code",
   "execution_count": 28,
   "metadata": {},
   "outputs": [
    {
     "name": "stdout",
     "output_type": "stream",
     "text": [
      "Train on 253 samples, validate on 64 samples\n",
      "Epoch 1/10\n",
      "253/253 [==============================] - 2s 10ms/step - loss: 1.0014 - accuracy: 0.4941 - val_loss: 0.8323 - val_accuracy: 0.6094\n",
      "Epoch 2/10\n",
      "253/253 [==============================] - 1s 4ms/step - loss: 0.9316 - accuracy: 0.5771 - val_loss: 0.8863 - val_accuracy: 0.6406\n",
      "Epoch 3/10\n",
      "253/253 [==============================] - 1s 4ms/step - loss: 0.8990 - accuracy: 0.6087 - val_loss: 0.8021 - val_accuracy: 0.7500\n",
      "Epoch 4/10\n",
      "253/253 [==============================] - 1s 3ms/step - loss: 0.8287 - accuracy: 0.6285 - val_loss: 0.7778 - val_accuracy: 0.7500\n",
      "Epoch 5/10\n",
      "253/253 [==============================] - 1s 3ms/step - loss: 0.7845 - accuracy: 0.6680 - val_loss: 0.7366 - val_accuracy: 0.7188\n",
      "Epoch 6/10\n",
      "253/253 [==============================] - 1s 3ms/step - loss: 0.6785 - accuracy: 0.7233 - val_loss: 0.7434 - val_accuracy: 0.7344\n",
      "Epoch 7/10\n",
      "253/253 [==============================] - 1s 2ms/step - loss: 0.5921 - accuracy: 0.7589 - val_loss: 0.7062 - val_accuracy: 0.7656\n",
      "Epoch 8/10\n",
      "253/253 [==============================] - 1s 2ms/step - loss: 0.4880 - accuracy: 0.8182 - val_loss: 0.7656 - val_accuracy: 0.7344\n",
      "Epoch 9/10\n",
      "253/253 [==============================] - 1s 2ms/step - loss: 0.4442 - accuracy: 0.8063 - val_loss: 0.7911 - val_accuracy: 0.7031\n",
      "Epoch 10/10\n",
      "253/253 [==============================] - 1s 2ms/step - loss: 0.3506 - accuracy: 0.8735 - val_loss: 0.7420 - val_accuracy: 0.7344\n"
     ]
    },
    {
     "data": {
      "text/plain": [
       "<keras.callbacks.callbacks.History at 0x1768a3ab5f8>"
      ]
     },
     "execution_count": 28,
     "metadata": {},
     "output_type": "execute_result"
    }
   ],
   "source": [
    "X_train, X_test, y_train, y_test = train_test_split(X, Y, test_size=.2)\n",
    "model.fit(X_train, y_train, validation_data=(X_test, y_test), epochs=10, batch_size=16)"
   ]
  },
  {
   "cell_type": "code",
   "execution_count": 29,
   "metadata": {},
   "outputs": [
    {
     "name": "stdout",
     "output_type": "stream",
     "text": [
      "train-acc = 0.9130434782608695\n",
      "test-acc = 0.734375\n"
     ]
    },
    {
     "data": {
      "image/png": "[encoded data removed]",
      "text/plain": [
       "<Figure size 720x720 with 2 Axes>"
      ]
     },
     "metadata": {
      "needs_background": "light"
     },
     "output_type": "display_data"
    },
    {
     "name": "stdout",
     "output_type": "stream",
     "text": [
      "              precision    recall  f1-score   support\n",
      "\n",
      "       Inner       0.79      0.83      0.81        23\n",
      "      Matrix       0.77      0.77      0.77        35\n",
      "       Outer       0.20      0.17      0.18         6\n",
      "\n",
      "    accuracy                           0.73        64\n",
      "   macro avg       0.59      0.59      0.59        64\n",
      "weighted avg       0.73      0.73      0.73        64\n",
      "\n"
     ]
    }
   ],
   "source": [
    "from sklearn.metrics import confusion_matrix\n",
    "from sklearn.metrics import accuracy_score\n",
    "from sklearn.metrics import classification_report\n",
    "import itertools\n",
    "\n",
    "train_pred = model.predict(X_train)\n",
    "test_pred = model.predict(X_test)\n",
    "print(\"train-acc = \" + str(accuracy_score(np.argmax(y_train, axis=1), np.argmax(train_pred, axis=1))))\n",
    "print(\"test-acc = \" + str(accuracy_score(np.argmax(y_test, axis=1), np.argmax(test_pred, axis=1))))\n",
    "\n",
    "# Compute confusion matrix\n",
    "cm = confusion_matrix(np.argmax(y_test, axis=1), np.argmax(test_pred, axis=1))\n",
    "\n",
    "# Plot normalized confusion matrix\n",
    "cm = cm.astype('float') / cm.sum(axis=1)[:, np.newaxis]\n",
    "np.set_printoptions(precision=2)\n",
    "plt.figure(figsize=(10,10))\n",
    "plt.imshow(cm, interpolation='nearest', cmap=plt.cm.Blues)\n",
    "plt.title('Confusion matrix')\n",
    "plt.colorbar()\n",
    "tick_marks = np.arange(len(lb.classes_))\n",
    "plt.xticks(tick_marks, lb.classes_, rotation=90)\n",
    "plt.yticks(tick_marks, lb.classes_)\n",
    "#for i, j in itertools.product(range(cm.shape[0]), range(cm.shape[1])):\n",
    "#    plt.text(j, i, format(cm[i, j], '.2f'), horizontalalignment=\"center\", color=\"white\" if cm[i, j] > cm.max() / 2. else \"black\")\n",
    "plt.ylabel('True label')\n",
    "plt.xlabel('Predicted label')\n",
    "plt.show()\n",
    "\n",
    "print(classification_report(np.argmax(y_test, axis=1), np.argmax(test_pred, axis=1), target_names=lb.classes_))"
   ]
  },
  {
   "cell_type": "code",
   "execution_count": null,
   "metadata": {},
   "outputs": [],
   "source": []
  }
 ],
 "metadata": {
  "kernelspec": {
   "display_name": "Python 3",
   "language": "python",
   "name": "python3"
  },
  "language_info": {
   "codemirror_mode": {
    "name": "ipython",
    "version": 3
   },
   "file_extension": ".py",
   "mimetype": "text/x-python",
   "name": "python",
   "nbconvert_exporter": "python",
   "pygments_lexer": "ipython3",
   "version": "3.7.1"
  }
 },
 "nbformat": 4,
 "nbformat_minor": 2
}
