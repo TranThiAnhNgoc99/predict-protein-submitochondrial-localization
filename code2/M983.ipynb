{
 "cells": [
  {
   "cell_type": "code",
   "execution_count": 1,
   "metadata": {},
   "outputs": [
    {
     "data": {
      "text/plain": [
       "(983, 3)"
      ]
     },
     "execution_count": 1,
     "metadata": {},
     "output_type": "execute_result"
    }
   ],
   "source": [
    "import numpy as np\n",
    "import pandas as pd\n",
    "\n",
    "df = pd.read_csv('983.csv')\n",
    "df.shape"
   ]
  },
  {
   "cell_type": "code",
   "execution_count": 2,
   "metadata": {},
   "outputs": [
    {
     "data": {
      "text/html": [
       "<div>\n",
       "<style scoped>\n",
       "    .dataframe tbody tr th:only-of-type {\n",
       "        vertical-align: middle;\n",
       "    }\n",
       "\n",
       "    .dataframe tbody tr th {\n",
       "        vertical-align: top;\n",
       "    }\n",
       "\n",
       "    .dataframe thead th {\n",
       "        text-align: right;\n",
       "    }\n",
       "</style>\n",
       "<table border=\"1\" class=\"dataframe\">\n",
       "  <thead>\n",
       "    <tr style=\"text-align: right;\">\n",
       "      <th></th>\n",
       "      <th>label</th>\n",
       "      <th>id</th>\n",
       "      <th>sequence</th>\n",
       "    </tr>\n",
       "  </thead>\n",
       "  <tbody>\n",
       "    <tr>\n",
       "      <td>978</td>\n",
       "      <td>Inner</td>\n",
       "      <td>Q9P7D8</td>\n",
       "      <td>MCISSSSLLCGINSLKYASNRVGILIPPFQTASSLNIFRPYVIFSR...</td>\n",
       "    </tr>\n",
       "    <tr>\n",
       "      <td>979</td>\n",
       "      <td>Outer</td>\n",
       "      <td>Q06089</td>\n",
       "      <td>MCLVKTTAHLLFYSFVFGGTTFYSYVASPIAFKVLEKDQFSALQNK...</td>\n",
       "    </tr>\n",
       "    <tr>\n",
       "      <td>980</td>\n",
       "      <td>Inner</td>\n",
       "      <td>Q09461</td>\n",
       "      <td>MPSPCESGKTTNCSGAPSSSCAKSVECCKKQLSVGVLQQVSASSSG...</td>\n",
       "    </tr>\n",
       "    <tr>\n",
       "      <td>981</td>\n",
       "      <td>Inner</td>\n",
       "      <td>B3LPE4</td>\n",
       "      <td>MIPRTRTLLQSKIPITRYFARCWAPRVRYNVCRTLPAAALHTNIIA...</td>\n",
       "    </tr>\n",
       "    <tr>\n",
       "      <td>982</td>\n",
       "      <td>Outer</td>\n",
       "      <td>Q9VKD7</td>\n",
       "      <td>MLITQIIMKQIRDYPIVSTISIAVSTVLASEVIWKLVQCSRSKREK...</td>\n",
       "    </tr>\n",
       "  </tbody>\n",
       "</table>\n",
       "</div>"
      ],
      "text/plain": [
       "     label      id                                           sequence\n",
       "978  Inner  Q9P7D8  MCISSSSLLCGINSLKYASNRVGILIPPFQTASSLNIFRPYVIFSR...\n",
       "979  Outer  Q06089  MCLVKTTAHLLFYSFVFGGTTFYSYVASPIAFKVLEKDQFSALQNK...\n",
       "980  Inner  Q09461  MPSPCESGKTTNCSGAPSSSCAKSVECCKKQLSVGVLQQVSASSSG...\n",
       "981  Inner  B3LPE4  MIPRTRTLLQSKIPITRYFARCWAPRVRYNVCRTLPAAALHTNIIA...\n",
       "982  Outer  Q9VKD7  MLITQIIMKQIRDYPIVSTISIAVSTVLASEVIWKLVQCSRSKREK..."
      ]
     },
     "execution_count": 2,
     "metadata": {},
     "output_type": "execute_result"
    }
   ],
   "source": [
    "df.tail()"
   ]
  },
  {
   "cell_type": "code",
   "execution_count": 4,
   "metadata": {},
   "outputs": [
    {
     "name": "stdout",
     "output_type": "stream",
     "text": [
      "at least 145 instances per class\n",
      "983 instances before\n",
      "983 instances after\n"
     ]
    },
    {
     "name": "stderr",
     "output_type": "stream",
     "text": [
      "C:\\Users\\Dell\\Anaconda3\\lib\\site-packages\\ipykernel_launcher.py:29: MatplotlibDeprecationWarning: \n",
      "The 'normed' kwarg was deprecated in Matplotlib 2.1 and will be removed in 3.1. Use 'density' instead.\n"
     ]
    },
    {
     "data": {
      "image/png": "[encoded data removed]",
      "text/plain": [
       "<Figure size 1440x360 with 2 Axes>"
      ]
     },
     "metadata": {
      "needs_background": "light"
     },
     "output_type": "display_data"
    }
   ],
   "source": [
    "import matplotlib.pyplot as plt\n",
    "from collections import Counter\n",
    "\n",
    "# count numbers of instances per class\n",
    "cnt = Counter(df.label)\n",
    "# select only 10 most common classes!\n",
    "top_classes = 3\n",
    "# sort classes\n",
    "sorted_classes = cnt.most_common()[:top_classes]\n",
    "classes = [c[0] for c in sorted_classes]\n",
    "counts = [c[1] for c in sorted_classes]\n",
    "print(\"at least \" + str(counts[-1]) + \" instances per class\")\n",
    "\n",
    "# apply to dataframe\n",
    "print(str(df.shape[0]) + \" instances before\")\n",
    "df = df[[c in classes for c in df.label]]\n",
    "print(str(df.shape[0]) + \" instances after\")\n",
    "\n",
    "seqs = df.sequence.values\n",
    "lengths = [len(s) for s in seqs]\n",
    "\n",
    "# visualize\n",
    "fig, axarr = plt.subplots(1,2, figsize=(20,5))\n",
    "axarr[0].bar(range(len(classes)), counts)\n",
    "plt.sca(axarr[0])\n",
    "plt.xticks(range(len(classes)), classes, rotation='vertical')\n",
    "axarr[0].set_ylabel('frequency')\n",
    "\n",
    "axarr[1].hist(lengths, bins=100, normed=False)\n",
    "axarr[1].set_xlabel('sequence length')\n",
    "axarr[1].set_ylabel('# sequences')\n",
    "plt.show()"
   ]
  },
  {
   "cell_type": "code",
   "execution_count": 5,
   "metadata": {},
   "outputs": [],
   "source": [
    "from sklearn.preprocessing import LabelBinarizer\n",
    "\n",
    "# Transform labels to one-hot\n",
    "lb = LabelBinarizer()\n",
    "Y = lb.fit_transform(df.label)"
   ]
  },
  {
   "cell_type": "code",
   "execution_count": 12,
   "metadata": {},
   "outputs": [],
   "source": [
    "from keras.preprocessing import text, sequence\n",
    "from keras.preprocessing.text import Tokenizer\n",
    "from sklearn.model_selection import train_test_split\n",
    "\n",
    "# maximum length of sequence, everything afterwards is discarded!\n",
    "max_length = 800\n",
    "\n",
    "#create and fit tokenizer\n",
    "tokenizer = Tokenizer(char_level=True)\n",
    "tokenizer.fit_on_texts(seqs)\n",
    "#represent input data as word rank number sequences\n",
    "X = tokenizer.texts_to_sequences(seqs)\n",
    "X = sequence.pad_sequences(X, maxlen=max_length)"
   ]
  },
  {
   "cell_type": "code",
   "execution_count": 7,
   "metadata": {},
   "outputs": [
    {
     "name": "stdout",
     "output_type": "stream",
     "text": [
      "Shape of X before SMOTE: (983, 800)\n",
      "Shape of X after SMOTE: (1983, 800)\n"
     ]
    },
    {
     "name": "stderr",
     "output_type": "stream",
     "text": [
      "C:\\Users\\Dell\\Anaconda3\\lib\\site-packages\\sklearn\\utils\\validation.py:72: FutureWarning: Pass classes=[0 1 2] as keyword args. From version 1.0 (renaming of 0.25) passing these as positional arguments will result in an error\n",
      "  \"will result in an error\", FutureWarning)\n"
     ]
    },
    {
     "data": {
      "text/plain": [
       "<BarContainer object of 3 artists>"
      ]
     },
     "execution_count": 7,
     "metadata": {},
     "output_type": "execute_result"
    },
    {
     "data": {
      "image/png": "[encoded data removed]",
      "text/plain": [
       "<Figure size 432x288 with 1 Axes>"
      ]
     },
     "metadata": {
      "needs_background": "light"
     },
     "output_type": "display_data"
    }
   ],
   "source": [
    "from imblearn.over_sampling import SMOTE \n",
    "\n",
    "sm = SMOTE(random_state=42)\n",
    "\n",
    "X_sm, y_sm = sm.fit_resample(X, Y)\n",
    "\n",
    "print(f'''Shape of X before SMOTE: {X.shape}\n",
    "Shape of X after SMOTE: {X_sm.shape}''')\n",
    "a = []\n",
    "for i in range(len(y_sm)):\n",
    "    if y_sm[i][0] == 1:\n",
    "        a.append(\"Inner\") \n",
    "    elif y_sm[i][1] == 1:\n",
    "        a.append(\"Matrix\")\n",
    "    else:\n",
    "        a.append(\"Outer\")  \n",
    "plt.bar(x = ['Inner', 'Matrix', 'Outer'], height = [a.count('Inner'), a.count('Matrix'), a.count('Outer')])"
   ]
  },
  {
   "cell_type": "code",
   "execution_count": 13,
   "metadata": {},
   "outputs": [
    {
     "name": "stdout",
     "output_type": "stream",
     "text": [
      "Model: \"sequential_2\"\n",
      "_________________________________________________________________\n",
      "Layer (type)                 Output Shape              Param #   \n",
      "=================================================================\n",
      "embedding_2 (Embedding)      (None, 800, 20)           420       \n",
      "_________________________________________________________________\n",
      "conv1d_4 (Conv1D)            (None, 800, 64)           3904      \n",
      "_________________________________________________________________\n",
      "max_pooling1d_4 (MaxPooling1 (None, 400, 64)           0         \n",
      "_________________________________________________________________\n",
      "conv1d_5 (Conv1D)            (None, 400, 32)           6176      \n",
      "_________________________________________________________________\n",
      "max_pooling1d_5 (MaxPooling1 (None, 200, 32)           0         \n",
      "_________________________________________________________________\n",
      "conv1d_6 (Conv1D)            (None, 200, 16)           1552      \n",
      "_________________________________________________________________\n",
      "max_pooling1d_6 (MaxPooling1 (None, 100, 16)           0         \n",
      "_________________________________________________________________\n",
      "flatten_2 (Flatten)          (None, 1600)              0         \n",
      "_________________________________________________________________\n",
      "dense_3 (Dense)              (None, 128)               204928    \n",
      "_________________________________________________________________\n",
      "dense_4 (Dense)              (None, 3)                 387       \n",
      "=================================================================\n",
      "Total params: 217,367\n",
      "Trainable params: 217,367\n",
      "Non-trainable params: 0\n",
      "_________________________________________________________________\n",
      "None\n"
     ]
    }
   ],
   "source": [
    "from keras.models import Sequential\n",
    "from keras.layers import Dense, Conv1D, MaxPooling1D, Flatten\n",
    "from keras.layers import LSTM\n",
    "from keras.layers.embeddings import Embedding\n",
    "\n",
    "embedding_dim = 20\n",
    "\n",
    "# create the model\n",
    "model = Sequential()\n",
    "model.add(Embedding(len(tokenizer.word_index)+1, embedding_dim, input_length=max_length))\n",
    "model.add(Conv1D(filters=64, kernel_size=3, padding='same', activation='relu'))\n",
    "model.add(MaxPooling1D(pool_size=2))\n",
    "model.add(Conv1D(filters=32, kernel_size=3, padding='same', activation='relu'))\n",
    "model.add(MaxPooling1D(pool_size=2))\n",
    "model.add(Conv1D(filters=16, kernel_size=3, padding='same', activation='relu'))\n",
    "model.add(MaxPooling1D(pool_size=2))\n",
    "model.add(Flatten())\n",
    "model.add(Dense(128, activation='relu'))\n",
    "model.add(Dense(top_classes, activation='softmax'))\n",
    "model.compile(loss='categorical_crossentropy', optimizer='adam', metrics=['accuracy'])\n",
    "print(model.summary())"
   ]
  },
  {
   "cell_type": "code",
   "execution_count": 9,
   "metadata": {},
   "outputs": [
    {
     "name": "stdout",
     "output_type": "stream",
     "text": [
      "WARNING:tensorflow:From C:\\Users\\Dell\\Anaconda3\\lib\\site-packages\\tensorflow\\python\\ops\\math_ops.py:3066: to_int32 (from tensorflow.python.ops.math_ops) is deprecated and will be removed in a future version.\n",
      "Instructions for updating:\n",
      "Use tf.cast instead.\n",
      "Train on 1586 samples, validate on 397 samples\n",
      "Epoch 1/10\n",
      "1586/1586 [==============================] - 4s 2ms/step - loss: 1.0149 - accuracy: 0.4748 - val_loss: 0.9145 - val_accuracy: 0.5416\n",
      "Epoch 2/10\n",
      "1586/1586 [==============================] - 4s 2ms/step - loss: 0.8377 - accuracy: 0.5870 - val_loss: 0.8205 - val_accuracy: 0.6146\n",
      "Epoch 3/10\n",
      "1586/1586 [==============================] - 3s 2ms/step - loss: 0.7269 - accuracy: 0.6627 - val_loss: 0.9121 - val_accuracy: 0.6247\n",
      "Epoch 4/10\n",
      "1586/1586 [==============================] - 4s 2ms/step - loss: 0.6511 - accuracy: 0.7005 - val_loss: 0.6860 - val_accuracy: 0.6927\n",
      "Epoch 5/10\n",
      "1586/1586 [==============================] - 4s 2ms/step - loss: 0.5676 - accuracy: 0.7522 - val_loss: 0.6454 - val_accuracy: 0.7179\n",
      "Epoch 6/10\n",
      "1586/1586 [==============================] - 4s 2ms/step - loss: 0.4227 - accuracy: 0.8247 - val_loss: 0.6628 - val_accuracy: 0.7229\n",
      "Epoch 7/10\n",
      "1586/1586 [==============================] - 4s 2ms/step - loss: 0.3347 - accuracy: 0.8600 - val_loss: 0.6283 - val_accuracy: 0.7355\n",
      "Epoch 8/10\n",
      "1586/1586 [==============================] - 3s 2ms/step - loss: 0.2236 - accuracy: 0.9193 - val_loss: 0.8744 - val_accuracy: 0.7582\n",
      "Epoch 9/10\n",
      "1586/1586 [==============================] - 4s 2ms/step - loss: 0.1312 - accuracy: 0.9546 - val_loss: 0.8100 - val_accuracy: 0.7531\n",
      "Epoch 10/10\n",
      "1586/1586 [==============================] - 4s 2ms/step - loss: 0.0669 - accuracy: 0.9792 - val_loss: 0.9412 - val_accuracy: 0.7506\n"
     ]
    },
    {
     "data": {
      "text/plain": [
       "<keras.callbacks.callbacks.History at 0x1f46d6b2b00>"
      ]
     },
     "execution_count": 9,
     "metadata": {},
     "output_type": "execute_result"
    }
   ],
   "source": [
    "X_train, X_test, y_train, y_test = train_test_split(X_sm, y_sm, test_size=.2)\n",
    "model.fit(X_train, y_train, validation_data=(X_test, y_test), epochs=10, batch_size=16)"
   ]
  },
  {
   "cell_type": "code",
   "execution_count": 10,
   "metadata": {
    "scrolled": true
   },
   "outputs": [
    {
     "name": "stdout",
     "output_type": "stream",
     "text": [
      "train-acc = 0.9943253467843631\n",
      "test-acc = 0.7506297229219143\n"
     ]
    },
    {
     "data": {
      "image/png": "[encoded data removed]",
      "text/plain": [
       "<Figure size 720x720 with 2 Axes>"
      ]
     },
     "metadata": {
      "needs_background": "light"
     },
     "output_type": "display_data"
    },
    {
     "name": "stdout",
     "output_type": "stream",
     "text": [
      "              precision    recall  f1-score   support\n",
      "\n",
      "       Inner       0.69      0.79      0.74       129\n",
      "      Matrix       0.74      0.71      0.73       129\n",
      "       Outer       0.83      0.75      0.78       139\n",
      "\n",
      "    accuracy                           0.75       397\n",
      "   macro avg       0.75      0.75      0.75       397\n",
      "weighted avg       0.76      0.75      0.75       397\n",
      "\n"
     ]
    }
   ],
   "source": [
    "from sklearn.metrics import confusion_matrix\n",
    "from sklearn.metrics import accuracy_score\n",
    "from sklearn.metrics import classification_report\n",
    "import itertools\n",
    "\n",
    "train_pred = model.predict(X_train)\n",
    "test_pred = model.predict(X_test)\n",
    "print(\"train-acc = \" + str(accuracy_score(np.argmax(y_train, axis=1), np.argmax(train_pred, axis=1))))\n",
    "print(\"test-acc = \" + str(accuracy_score(np.argmax(y_test, axis=1), np.argmax(test_pred, axis=1))))\n",
    "\n",
    "# Compute confusion matrix\n",
    "cm = confusion_matrix(np.argmax(y_test, axis=1), np.argmax(test_pred, axis=1))\n",
    "\n",
    "# Plot normalized confusion matrix\n",
    "cm = cm.astype('float') / cm.sum(axis=1)[:, np.newaxis]\n",
    "np.set_printoptions(precision=2)\n",
    "plt.figure(figsize=(10,10))\n",
    "plt.imshow(cm, interpolation='nearest', cmap=plt.cm.Blues)\n",
    "plt.title('Confusion matrix')\n",
    "plt.colorbar()\n",
    "tick_marks = np.arange(len(lb.classes_))\n",
    "plt.xticks(tick_marks, lb.classes_, rotation=90)\n",
    "plt.yticks(tick_marks, lb.classes_)\n",
    "#for i, j in itertools.product(range(cm.shape[0]), range(cm.shape[1])):\n",
    "#    plt.text(j, i, format(cm[i, j], '.2f'), horizontalalignment=\"center\", color=\"white\" if cm[i, j] > cm.max() / 2. else \"black\")\n",
    "plt.ylabel('True label')\n",
    "plt.xlabel('Predicted label')\n",
    "plt.show()\n",
    "\n",
    "print(classification_report(np.argmax(y_test, axis=1), np.argmax(test_pred, axis=1), target_names=lb.classes_))"
   ]
  },
  {
   "cell_type": "code",
   "execution_count": 11,
   "metadata": {},
   "outputs": [],
   "source": [
    "model.save('model983.h5')"
   ]
  },
  {
   "cell_type": "code",
   "execution_count": null,
   "metadata": {},
   "outputs": [],
   "source": []
  }
 ],
 "metadata": {
  "kernelspec": {
   "display_name": "Python 3",
   "language": "python",
   "name": "python3"
  },
  "language_info": {
   "codemirror_mode": {
    "name": "ipython",
    "version": 3
   },
   "file_extension": ".py",
   "mimetype": "text/x-python",
   "name": "python",
   "nbconvert_exporter": "python",
   "pygments_lexer": "ipython3",
   "version": "3.7.1"
  }
 },
 "nbformat": 4,
 "nbformat_minor": 2
}
